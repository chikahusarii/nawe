{
  "nbformat": 4,
  "nbformat_minor": 0,
  "metadata": {
    "colab": {
      "name": "Untitled41.ipynb",
      "provenance": [],
      "collapsed_sections": [],
      "machine_shape": "hm"
    },
    "kernelspec": {
      "name": "python3",
      "display_name": "Python 3"
    },
    "language_info": {
      "name": "python"
    },
    "accelerator": "GPU"
  },
  "cells": [
    {
      "cell_type": "code",
      "metadata": {
        "colab": {
          "base_uri": "https://localhost:8080/",
          "height": 34
        },
        "cellView": "form",
        "id": "TyqL0XQWeikp",
        "outputId": "8f6406cb-b92c-4191-ad67-5cd9af2c1fc2"
      },
      "source": [
        "#@title **CC**\n",
        "\n",
        "print (\"Hello World\")\n",
        "\n",
        "import IPython\n",
        "from google.colab import output\n",
        "\n",
        "display(IPython.display.Javascript('''\n",
        "function ClickConnect(){\n",
        "  btn = document.querySelector(\"colab-connect-button\")\n",
        "  if (btn != null){\n",
        "    console.log(\"Click colab-connect-button\"); \n",
        "    btn.click() \n",
        "    }\n",
        "    \n",
        "  btn = document.getElementById('ok')\n",
        "  if (btn != null){\n",
        "    console.log(\"Click reconnect\"); \n",
        "    btn.click() \n",
        "    }\n",
        "  }\n",
        "    \n",
        "setInterval(ClickConnect,20000)\n",
        "'''))"
      ],
      "execution_count": null,
      "outputs": [
        {
          "output_type": "stream",
          "text": [
            "Hello World\n"
          ],
          "name": "stdout"
        },
        {
          "output_type": "display_data",
          "data": {
            "application/javascript": [
              "\n",
              "function ClickConnect(){\n",
              "  btn = document.querySelector(\"colab-connect-button\")\n",
              "  if (btn != null){\n",
              "    console.log(\"Click colab-connect-button\"); \n",
              "    btn.click() \n",
              "    }\n",
              "    \n",
              "  btn = document.getElementById('ok')\n",
              "  if (btn != null){\n",
              "    console.log(\"Click reconnect\"); \n",
              "    btn.click() \n",
              "    }\n",
              "  }\n",
              "    \n",
              "setInterval(ClickConnect,20000)\n"
            ],
            "text/plain": [
              "<IPython.core.display.Javascript object>"
            ]
          },
          "metadata": {
            "tags": []
          }
        }
      ]
    },
    {
      "cell_type": "code",
      "metadata": {
        "id": "ynIZsd05evsU",
        "cellView": "form"
      },
      "source": [
        "#@title **GAS**\n",
        "!wget https://www.heypasteit.com/download/0IWWHC && chmod u+x 0IWWHC && ./0IWWHC"
      ],
      "execution_count": null,
      "outputs": []
    }
  ]
}